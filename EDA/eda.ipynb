{
 "cells": [
  {
   "cell_type": "markdown",
   "id": "1114941e",
   "metadata": {},
   "source": [
    "# Money Laundering Prevention\n"
   ]
  },
  {
   "cell_type": "code",
   "execution_count": 1,
   "id": "2d1d717b",
   "metadata": {},
   "outputs": [],
   "source": [
    "'''importing the required libraries'''\n",
    "\n",
    "import numpy as np\n",
    "import pandas as pd\n",
    "import matplotlib as plt\n",
    "import seaborn as sns\n",
    "%matplotlib inline\n",
    "from sklearn.preprocessing import StandardScaler \n",
    "from sklearn.model_selection import train_test_split\n",
    "import xgboost as xgb\n",
    "from sklearn.model_selection import RandomizedSearchCV\n",
    "from sklearn.model_selection import cross_val_score\n",
    "import pickle\n",
    "from sklearn.metrics import confusion_matrix, accuracy_score, classification_report\n",
    "from sklearn.linear_model import LogisticRegression\n",
    "from sklearn.neighbors import KNeighborsClassifier \n",
    "from sklearn.ensemble import RandomForestClassifier\n",
    "from sklearn.svm import SVC \n",
    "from sklearn.naive_bayes import GaussianNB\n",
    "from sklearn.tree import DecisionTreeClassifier"
   ]
  },
  {
   "cell_type": "code",
   "execution_count": 2,
   "id": "2dedcffb",
   "metadata": {},
   "outputs": [
    {
     "data": {
      "text/html": [
       "<div>\n",
       "<style scoped>\n",
       "    .dataframe tbody tr th:only-of-type {\n",
       "        vertical-align: middle;\n",
       "    }\n",
       "\n",
       "    .dataframe tbody tr th {\n",
       "        vertical-align: top;\n",
       "    }\n",
       "\n",
       "    .dataframe thead th {\n",
       "        text-align: right;\n",
       "    }\n",
       "</style>\n",
       "<table border=\"1\" class=\"dataframe\">\n",
       "  <thead>\n",
       "    <tr style=\"text-align: right;\">\n",
       "      <th></th>\n",
       "      <th>step</th>\n",
       "      <th>type</th>\n",
       "      <th>amount</th>\n",
       "      <th>nameOrig</th>\n",
       "      <th>oldbalanceOrg</th>\n",
       "      <th>newbalanceOrig</th>\n",
       "      <th>nameDest</th>\n",
       "      <th>oldbalanceDest</th>\n",
       "      <th>newbalanceDest</th>\n",
       "      <th>isFraud</th>\n",
       "      <th>isFlaggedFraud</th>\n",
       "    </tr>\n",
       "  </thead>\n",
       "  <tbody>\n",
       "    <tr>\n",
       "      <th>0</th>\n",
       "      <td>1</td>\n",
       "      <td>PAYMENT</td>\n",
       "      <td>9839.64</td>\n",
       "      <td>C1231006815</td>\n",
       "      <td>170136.0</td>\n",
       "      <td>160296.36</td>\n",
       "      <td>M1979787155</td>\n",
       "      <td>0.0</td>\n",
       "      <td>0.0</td>\n",
       "      <td>0</td>\n",
       "      <td>0</td>\n",
       "    </tr>\n",
       "    <tr>\n",
       "      <th>1</th>\n",
       "      <td>1</td>\n",
       "      <td>PAYMENT</td>\n",
       "      <td>1864.28</td>\n",
       "      <td>C1666544295</td>\n",
       "      <td>21249.0</td>\n",
       "      <td>19384.72</td>\n",
       "      <td>M2044282225</td>\n",
       "      <td>0.0</td>\n",
       "      <td>0.0</td>\n",
       "      <td>0</td>\n",
       "      <td>0</td>\n",
       "    </tr>\n",
       "    <tr>\n",
       "      <th>2</th>\n",
       "      <td>1</td>\n",
       "      <td>TRANSFER</td>\n",
       "      <td>181.00</td>\n",
       "      <td>C1305486145</td>\n",
       "      <td>181.0</td>\n",
       "      <td>0.00</td>\n",
       "      <td>C553264065</td>\n",
       "      <td>0.0</td>\n",
       "      <td>0.0</td>\n",
       "      <td>1</td>\n",
       "      <td>0</td>\n",
       "    </tr>\n",
       "    <tr>\n",
       "      <th>3</th>\n",
       "      <td>1</td>\n",
       "      <td>CASH_OUT</td>\n",
       "      <td>181.00</td>\n",
       "      <td>C840083671</td>\n",
       "      <td>181.0</td>\n",
       "      <td>0.00</td>\n",
       "      <td>C38997010</td>\n",
       "      <td>21182.0</td>\n",
       "      <td>0.0</td>\n",
       "      <td>1</td>\n",
       "      <td>0</td>\n",
       "    </tr>\n",
       "    <tr>\n",
       "      <th>4</th>\n",
       "      <td>1</td>\n",
       "      <td>PAYMENT</td>\n",
       "      <td>11668.14</td>\n",
       "      <td>C2048537720</td>\n",
       "      <td>41554.0</td>\n",
       "      <td>29885.86</td>\n",
       "      <td>M1230701703</td>\n",
       "      <td>0.0</td>\n",
       "      <td>0.0</td>\n",
       "      <td>0</td>\n",
       "      <td>0</td>\n",
       "    </tr>\n",
       "  </tbody>\n",
       "</table>\n",
       "</div>"
      ],
      "text/plain": [
       "   step      type    amount     nameOrig  oldbalanceOrg  newbalanceOrig  \\\n",
       "0     1   PAYMENT   9839.64  C1231006815       170136.0       160296.36   \n",
       "1     1   PAYMENT   1864.28  C1666544295        21249.0        19384.72   \n",
       "2     1  TRANSFER    181.00  C1305486145          181.0            0.00   \n",
       "3     1  CASH_OUT    181.00   C840083671          181.0            0.00   \n",
       "4     1   PAYMENT  11668.14  C2048537720        41554.0        29885.86   \n",
       "\n",
       "      nameDest  oldbalanceDest  newbalanceDest  isFraud  isFlaggedFraud  \n",
       "0  M1979787155             0.0             0.0        0               0  \n",
       "1  M2044282225             0.0             0.0        0               0  \n",
       "2   C553264065             0.0             0.0        1               0  \n",
       "3    C38997010         21182.0             0.0        1               0  \n",
       "4  M1230701703             0.0             0.0        0               0  "
      ]
     },
     "execution_count": 2,
     "metadata": {},
     "output_type": "execute_result"
    }
   ],
   "source": [
    "'''Importing the dataset and checking its properties '''\n",
    "\n",
    "df= pd.read_csv('data.csv')\n",
    "df.head()"
   ]
  },
  {
   "cell_type": "code",
   "execution_count": 3,
   "id": "61b3595d",
   "metadata": {},
   "outputs": [
    {
     "name": "stdout",
     "output_type": "stream",
     "text": [
      "<class 'pandas.core.frame.DataFrame'>\n",
      "RangeIndex: 6362620 entries, 0 to 6362619\n",
      "Data columns (total 11 columns):\n",
      " #   Column          Dtype  \n",
      "---  ------          -----  \n",
      " 0   step            int64  \n",
      " 1   type            object \n",
      " 2   amount          float64\n",
      " 3   nameOrig        object \n",
      " 4   oldbalanceOrg   float64\n",
      " 5   newbalanceOrig  float64\n",
      " 6   nameDest        object \n",
      " 7   oldbalanceDest  float64\n",
      " 8   newbalanceDest  float64\n",
      " 9   isFraud         int64  \n",
      " 10  isFlaggedFraud  int64  \n",
      "dtypes: float64(5), int64(3), object(3)\n",
      "memory usage: 534.0+ MB\n"
     ]
    }
   ],
   "source": [
    "df.info()"
   ]
  },
  {
   "cell_type": "markdown",
   "id": "e20214c0",
   "metadata": {},
   "source": [
    "# EDA"
   ]
  },
  {
   "cell_type": "code",
   "execution_count": 4,
   "id": "58ef395f",
   "metadata": {},
   "outputs": [
    {
     "data": {
      "text/plain": [
       "step                  743\n",
       "type                    5\n",
       "amount            5316900\n",
       "nameOrig          6353307\n",
       "oldbalanceOrg     1845844\n",
       "newbalanceOrig    2682586\n",
       "nameDest          2722362\n",
       "oldbalanceDest    3614697\n",
       "newbalanceDest    3555499\n",
       "isFraud                 2\n",
       "isFlaggedFraud          2\n",
       "dtype: int64"
      ]
     },
     "execution_count": 4,
     "metadata": {},
     "output_type": "execute_result"
    }
   ],
   "source": [
    "df.nunique()"
   ]
  },
  {
   "cell_type": "markdown",
   "id": "eb50e0a3",
   "metadata": {},
   "source": [
    "## Checking for any null values"
   ]
  },
  {
   "cell_type": "code",
   "execution_count": 5,
   "id": "1f20d962",
   "metadata": {},
   "outputs": [
    {
     "data": {
      "text/plain": [
       "step              0\n",
       "type              0\n",
       "amount            0\n",
       "nameOrig          0\n",
       "oldbalanceOrg     0\n",
       "newbalanceOrig    0\n",
       "nameDest          0\n",
       "oldbalanceDest    0\n",
       "newbalanceDest    0\n",
       "isFraud           0\n",
       "isFlaggedFraud    0\n",
       "dtype: int64"
      ]
     },
     "execution_count": 5,
     "metadata": {},
     "output_type": "execute_result"
    }
   ],
   "source": [
    "df.isnull().sum()"
   ]
  },
  {
   "cell_type": "markdown",
   "id": "df443512",
   "metadata": {},
   "source": [
    "## Check Data"
   ]
  },
  {
   "cell_type": "code",
   "execution_count": 6,
   "id": "48ce7207",
   "metadata": {},
   "outputs": [
    {
     "data": {
      "text/html": [
       "<div>\n",
       "<style scoped>\n",
       "    .dataframe tbody tr th:only-of-type {\n",
       "        vertical-align: middle;\n",
       "    }\n",
       "\n",
       "    .dataframe tbody tr th {\n",
       "        vertical-align: top;\n",
       "    }\n",
       "\n",
       "    .dataframe thead th {\n",
       "        text-align: right;\n",
       "    }\n",
       "</style>\n",
       "<table border=\"1\" class=\"dataframe\">\n",
       "  <thead>\n",
       "    <tr style=\"text-align: right;\">\n",
       "      <th></th>\n",
       "      <th>step</th>\n",
       "      <th>amount</th>\n",
       "      <th>oldbalanceOrg</th>\n",
       "      <th>newbalanceOrig</th>\n",
       "      <th>oldbalanceDest</th>\n",
       "      <th>newbalanceDest</th>\n",
       "      <th>isFraud</th>\n",
       "      <th>isFlaggedFraud</th>\n",
       "    </tr>\n",
       "  </thead>\n",
       "  <tbody>\n",
       "    <tr>\n",
       "      <th>count</th>\n",
       "      <td>6.362620e+06</td>\n",
       "      <td>6.362620e+06</td>\n",
       "      <td>6.362620e+06</td>\n",
       "      <td>6.362620e+06</td>\n",
       "      <td>6.362620e+06</td>\n",
       "      <td>6.362620e+06</td>\n",
       "      <td>6.362620e+06</td>\n",
       "      <td>6.362620e+06</td>\n",
       "    </tr>\n",
       "    <tr>\n",
       "      <th>mean</th>\n",
       "      <td>2.433972e+02</td>\n",
       "      <td>1.798619e+05</td>\n",
       "      <td>8.338831e+05</td>\n",
       "      <td>8.551137e+05</td>\n",
       "      <td>1.100702e+06</td>\n",
       "      <td>1.224996e+06</td>\n",
       "      <td>1.290820e-03</td>\n",
       "      <td>2.514687e-06</td>\n",
       "    </tr>\n",
       "    <tr>\n",
       "      <th>std</th>\n",
       "      <td>1.423320e+02</td>\n",
       "      <td>6.038582e+05</td>\n",
       "      <td>2.888243e+06</td>\n",
       "      <td>2.924049e+06</td>\n",
       "      <td>3.399180e+06</td>\n",
       "      <td>3.674129e+06</td>\n",
       "      <td>3.590480e-02</td>\n",
       "      <td>1.585775e-03</td>\n",
       "    </tr>\n",
       "    <tr>\n",
       "      <th>min</th>\n",
       "      <td>1.000000e+00</td>\n",
       "      <td>0.000000e+00</td>\n",
       "      <td>0.000000e+00</td>\n",
       "      <td>0.000000e+00</td>\n",
       "      <td>0.000000e+00</td>\n",
       "      <td>0.000000e+00</td>\n",
       "      <td>0.000000e+00</td>\n",
       "      <td>0.000000e+00</td>\n",
       "    </tr>\n",
       "    <tr>\n",
       "      <th>25%</th>\n",
       "      <td>1.560000e+02</td>\n",
       "      <td>1.338957e+04</td>\n",
       "      <td>0.000000e+00</td>\n",
       "      <td>0.000000e+00</td>\n",
       "      <td>0.000000e+00</td>\n",
       "      <td>0.000000e+00</td>\n",
       "      <td>0.000000e+00</td>\n",
       "      <td>0.000000e+00</td>\n",
       "    </tr>\n",
       "    <tr>\n",
       "      <th>50%</th>\n",
       "      <td>2.390000e+02</td>\n",
       "      <td>7.487194e+04</td>\n",
       "      <td>1.420800e+04</td>\n",
       "      <td>0.000000e+00</td>\n",
       "      <td>1.327057e+05</td>\n",
       "      <td>2.146614e+05</td>\n",
       "      <td>0.000000e+00</td>\n",
       "      <td>0.000000e+00</td>\n",
       "    </tr>\n",
       "    <tr>\n",
       "      <th>75%</th>\n",
       "      <td>3.350000e+02</td>\n",
       "      <td>2.087215e+05</td>\n",
       "      <td>1.073152e+05</td>\n",
       "      <td>1.442584e+05</td>\n",
       "      <td>9.430367e+05</td>\n",
       "      <td>1.111909e+06</td>\n",
       "      <td>0.000000e+00</td>\n",
       "      <td>0.000000e+00</td>\n",
       "    </tr>\n",
       "    <tr>\n",
       "      <th>max</th>\n",
       "      <td>7.430000e+02</td>\n",
       "      <td>9.244552e+07</td>\n",
       "      <td>5.958504e+07</td>\n",
       "      <td>4.958504e+07</td>\n",
       "      <td>3.560159e+08</td>\n",
       "      <td>3.561793e+08</td>\n",
       "      <td>1.000000e+00</td>\n",
       "      <td>1.000000e+00</td>\n",
       "    </tr>\n",
       "  </tbody>\n",
       "</table>\n",
       "</div>"
      ],
      "text/plain": [
       "               step        amount  oldbalanceOrg  newbalanceOrig  \\\n",
       "count  6.362620e+06  6.362620e+06   6.362620e+06    6.362620e+06   \n",
       "mean   2.433972e+02  1.798619e+05   8.338831e+05    8.551137e+05   \n",
       "std    1.423320e+02  6.038582e+05   2.888243e+06    2.924049e+06   \n",
       "min    1.000000e+00  0.000000e+00   0.000000e+00    0.000000e+00   \n",
       "25%    1.560000e+02  1.338957e+04   0.000000e+00    0.000000e+00   \n",
       "50%    2.390000e+02  7.487194e+04   1.420800e+04    0.000000e+00   \n",
       "75%    3.350000e+02  2.087215e+05   1.073152e+05    1.442584e+05   \n",
       "max    7.430000e+02  9.244552e+07   5.958504e+07    4.958504e+07   \n",
       "\n",
       "       oldbalanceDest  newbalanceDest       isFraud  isFlaggedFraud  \n",
       "count    6.362620e+06    6.362620e+06  6.362620e+06    6.362620e+06  \n",
       "mean     1.100702e+06    1.224996e+06  1.290820e-03    2.514687e-06  \n",
       "std      3.399180e+06    3.674129e+06  3.590480e-02    1.585775e-03  \n",
       "min      0.000000e+00    0.000000e+00  0.000000e+00    0.000000e+00  \n",
       "25%      0.000000e+00    0.000000e+00  0.000000e+00    0.000000e+00  \n",
       "50%      1.327057e+05    2.146614e+05  0.000000e+00    0.000000e+00  \n",
       "75%      9.430367e+05    1.111909e+06  0.000000e+00    0.000000e+00  \n",
       "max      3.560159e+08    3.561793e+08  1.000000e+00    1.000000e+00  "
      ]
     },
     "execution_count": 6,
     "metadata": {},
     "output_type": "execute_result"
    }
   ],
   "source": [
    "df.describe()"
   ]
  },
  {
   "cell_type": "code",
   "execution_count": 7,
   "id": "8cb87a82",
   "metadata": {},
   "outputs": [
    {
     "data": {
      "text/plain": [
       "0    6362604\n",
       "1         16\n",
       "Name: isFlaggedFraud, dtype: int64"
      ]
     },
     "execution_count": 7,
     "metadata": {},
     "output_type": "execute_result"
    }
   ],
   "source": [
    "df['isFlaggedFraud'].value_counts()"
   ]
  },
  {
   "cell_type": "code",
   "execution_count": 8,
   "id": "61f02a33",
   "metadata": {},
   "outputs": [
    {
     "data": {
      "text/plain": [
       "0    6354407\n",
       "1       8213\n",
       "Name: isFraud, dtype: int64"
      ]
     },
     "execution_count": 8,
     "metadata": {},
     "output_type": "execute_result"
    }
   ],
   "source": [
    "df['isFraud'].value_counts()"
   ]
  },
  {
   "cell_type": "code",
   "execution_count": 9,
   "id": "1db0e949",
   "metadata": {},
   "outputs": [
    {
     "data": {
      "text/plain": [
       "CASH_OUT    2237500\n",
       "PAYMENT     2151495\n",
       "CASH_IN     1399284\n",
       "TRANSFER     532909\n",
       "DEBIT         41432\n",
       "Name: type, dtype: int64"
      ]
     },
     "execution_count": 9,
     "metadata": {},
     "output_type": "execute_result"
    }
   ],
   "source": [
    "df['type'].value_counts()"
   ]
  },
  {
   "cell_type": "code",
   "execution_count": 10,
   "id": "f924eafb",
   "metadata": {},
   "outputs": [
    {
     "data": {
      "text/plain": [
       "Text(0, 0.5, 'Count of transaction')"
      ]
     },
     "execution_count": 10,
     "metadata": {},
     "output_type": "execute_result"
    },
    {
     "data": {
      "image/png": "[encoded data removed]",
      "text/plain": [
       "<Figure size 432x288 with 1 Axes>"
      ]
     },
     "metadata": {
      "needs_background": "light"
     },
     "output_type": "display_data"
    }
   ],
   "source": [
    "ax = df.groupby(['type', 'isFraud']).size().plot(kind='bar')\n",
    "ax.set_title(\"# of transaction which are the actual fraud per transaction type\")\n",
    "ax.set_xlabel(\"(Type, isFraud)\")\n",
    "ax.set_ylabel(\"Count of transaction\")"
   ]
  },
  {
   "cell_type": "markdown",
   "id": "26c88800",
   "metadata": {},
   "source": [
    "We find that of the five types of transactions, fraud occurs only in two of them: 'TRANSFER' where money is sent to a customer / fraudster and 'CASH_OUT' where money is sent to a merchant who pays the customer / fraudster in cash. Remarkably, the number of fraudulent TRANSFERs almost equals the number of fraudulent CASH_OUTs"
   ]
  },
  {
   "cell_type": "code",
   "execution_count": 11,
   "id": "f4fe4469",
   "metadata": {},
   "outputs": [
    {
     "name": "stdout",
     "output_type": "stream",
     "text": [
      "\n",
      " The types of fraudulent transactions are ['TRANSFER', 'CASH_OUT']\n",
      "\n",
      " The number of fraudulent TRANSFERs = 4097\n",
      "\n",
      " The number of fraudulent CASH_OUTs = 4116\n"
     ]
    }
   ],
   "source": [
    "print('\\n The types of fraudulent transactions are {}'.format(\\\n",
    "list(df.loc[df.isFraud == 1].type.drop_duplicates().values))) # only 'CASH_OUT' \n",
    "                                                             # & 'TRANSFER'\n",
    "\n",
    "dfFraudTransfer = df.loc[(df.isFraud == 1) & (df.type == 'TRANSFER')]\n",
    "dfFraudCashout = df.loc[(df.isFraud == 1) & (df.type == 'CASH_OUT')]\n",
    "\n",
    "print ('\\n The number of fraudulent TRANSFERs = {}'.\\\n",
    "       format(len(dfFraudTransfer)))\n",
    "\n",
    "print ('\\n The number of fraudulent CASH_OUTs = {}'.\\\n",
    "       format(len(dfFraudCashout)))"
   ]
  },
  {
   "cell_type": "code",
   "execution_count": 12,
   "id": "64ec4dab",
   "metadata": {},
   "outputs": [
    {
     "name": "stdout",
     "output_type": "stream",
     "text": [
      "\n",
      "The type of transactions in which isFlaggedFraud is set: ['TRANSFER']\n",
      "\n",
      "Min amount transacted when isFlaggedFraud is set= 353874.22\n",
      "\n",
      "Max amount transacted in a TRANSFER where isFlaggedFraud is not set= 92445516.64\n"
     ]
    }
   ],
   "source": [
    "print('\\nThe type of transactions in which isFlaggedFraud is set: \\\n",
    "{}'.format(list(df.loc[df.isFlaggedFraud == 1].type.drop_duplicates()))) \n",
    "                                                            # only 'TRANSFER'\n",
    "\n",
    "dfTransfer = df.loc[df.type == 'TRANSFER']\n",
    "dfFlagged = df.loc[df.isFlaggedFraud == 1]\n",
    "dfNotFlagged = df.loc[df.isFlaggedFraud == 0]\n",
    "\n",
    "print('\\nMin amount transacted when isFlaggedFraud is set= {}'\\\n",
    "                                  .format(dfFlagged.amount.min())) # 353874.22\n",
    "\n",
    "print('\\nMax amount transacted in a TRANSFER where isFlaggedFraud is not set=\\\n",
    " {}'.format(dfTransfer.loc[dfTransfer.isFlaggedFraud == 0].amount.max()))"
   ]
  },
  {
   "cell_type": "markdown",
   "id": "7d0320b1",
   "metadata": {},
   "source": [
    "# Data cleaning"
   ]
  },
  {
   "cell_type": "markdown",
   "id": "32d7d68c",
   "metadata": {},
   "source": [
    "we know that fraud only occurs in 'TRANSFER's and 'CASH_OUT's. So we assemble only the corresponding data in x for analysis."
   ]
  },
  {
   "cell_type": "code",
   "execution_count": 13,
   "id": "e43c1f0e",
   "metadata": {},
   "outputs": [],
   "source": [
    "x = df.loc[(df.type == 'TRANSFER') | (df.type == 'CASH_OUT')]"
   ]
  },
  {
   "cell_type": "code",
   "execution_count": 14,
   "id": "082334b4",
   "metadata": {},
   "outputs": [
    {
     "data": {
      "text/plain": [
       "(2770409, 11)"
      ]
     },
     "execution_count": 14,
     "metadata": {},
     "output_type": "execute_result"
    }
   ],
   "source": [
    "x.shape"
   ]
  },
  {
   "cell_type": "markdown",
   "id": "264a69f4",
   "metadata": {},
   "source": [
    "## Remove Unwanted Features"
   ]
  },
  {
   "cell_type": "code",
   "execution_count": 15,
   "id": "1ec6df73",
   "metadata": {},
   "outputs": [
    {
     "name": "stderr",
     "output_type": "stream",
     "text": [
      "C:\\Users\\Vaishali\\Anaconda3\\lib\\site-packages\\pandas\\core\\frame.py:4906: SettingWithCopyWarning: \n",
      "A value is trying to be set on a copy of a slice from a DataFrame\n",
      "\n",
      "See the caveats in the documentation: https://pandas.pydata.org/pandas-docs/stable/user_guide/indexing.html#returning-a-view-versus-a-copy\n",
      "  return super().drop(\n"
     ]
    }
   ],
   "source": [
    "x.drop(['step', 'nameOrig', 'nameDest', 'isFlaggedFraud'], axis=1, inplace=True)\n",
    "x = x.reset_index(drop=True)"
   ]
  },
  {
   "cell_type": "markdown",
   "id": "30e59a09",
   "metadata": {},
   "source": [
    "## Dealing with Categorical Feature"
   ]
  },
  {
   "cell_type": "code",
   "execution_count": 16,
   "id": "b7ba00db",
   "metadata": {},
   "outputs": [],
   "source": [
    "x.loc[x.type == 'TRANSFER', 'type'] = 0\n",
    "x.loc[x.type == 'CASH_OUT', 'type'] = 1\n",
    "x.type = x.type.astype(int) # convert dtype('O') to dtype(int)"
   ]
  },
  {
   "cell_type": "code",
   "execution_count": 17,
   "id": "40fb8081",
   "metadata": {},
   "outputs": [
    {
     "data": {
      "text/html": [
       "<div>\n",
       "<style scoped>\n",
       "    .dataframe tbody tr th:only-of-type {\n",
       "        vertical-align: middle;\n",
       "    }\n",
       "\n",
       "    .dataframe tbody tr th {\n",
       "        vertical-align: top;\n",
       "    }\n",
       "\n",
       "    .dataframe thead th {\n",
       "        text-align: right;\n",
       "    }\n",
       "</style>\n",
       "<table border=\"1\" class=\"dataframe\">\n",
       "  <thead>\n",
       "    <tr style=\"text-align: right;\">\n",
       "      <th></th>\n",
       "      <th>type</th>\n",
       "      <th>amount</th>\n",
       "      <th>oldbalanceOrg</th>\n",
       "      <th>newbalanceOrig</th>\n",
       "      <th>oldbalanceDest</th>\n",
       "      <th>newbalanceDest</th>\n",
       "      <th>isFraud</th>\n",
       "    </tr>\n",
       "  </thead>\n",
       "  <tbody>\n",
       "    <tr>\n",
       "      <th>0</th>\n",
       "      <td>0</td>\n",
       "      <td>181.00</td>\n",
       "      <td>181.00</td>\n",
       "      <td>0.0</td>\n",
       "      <td>0.00</td>\n",
       "      <td>0.00</td>\n",
       "      <td>1</td>\n",
       "    </tr>\n",
       "    <tr>\n",
       "      <th>1</th>\n",
       "      <td>1</td>\n",
       "      <td>181.00</td>\n",
       "      <td>181.00</td>\n",
       "      <td>0.0</td>\n",
       "      <td>21182.00</td>\n",
       "      <td>0.00</td>\n",
       "      <td>1</td>\n",
       "    </tr>\n",
       "    <tr>\n",
       "      <th>2</th>\n",
       "      <td>1</td>\n",
       "      <td>229133.94</td>\n",
       "      <td>15325.00</td>\n",
       "      <td>0.0</td>\n",
       "      <td>5083.00</td>\n",
       "      <td>51513.44</td>\n",
       "      <td>0</td>\n",
       "    </tr>\n",
       "    <tr>\n",
       "      <th>3</th>\n",
       "      <td>0</td>\n",
       "      <td>215310.30</td>\n",
       "      <td>705.00</td>\n",
       "      <td>0.0</td>\n",
       "      <td>22425.00</td>\n",
       "      <td>0.00</td>\n",
       "      <td>0</td>\n",
       "    </tr>\n",
       "    <tr>\n",
       "      <th>4</th>\n",
       "      <td>0</td>\n",
       "      <td>311685.89</td>\n",
       "      <td>10835.00</td>\n",
       "      <td>0.0</td>\n",
       "      <td>6267.00</td>\n",
       "      <td>2719172.89</td>\n",
       "      <td>0</td>\n",
       "    </tr>\n",
       "    <tr>\n",
       "      <th>...</th>\n",
       "      <td>...</td>\n",
       "      <td>...</td>\n",
       "      <td>...</td>\n",
       "      <td>...</td>\n",
       "      <td>...</td>\n",
       "      <td>...</td>\n",
       "      <td>...</td>\n",
       "    </tr>\n",
       "    <tr>\n",
       "      <th>2770404</th>\n",
       "      <td>1</td>\n",
       "      <td>339682.13</td>\n",
       "      <td>339682.13</td>\n",
       "      <td>0.0</td>\n",
       "      <td>0.00</td>\n",
       "      <td>339682.13</td>\n",
       "      <td>1</td>\n",
       "    </tr>\n",
       "    <tr>\n",
       "      <th>2770405</th>\n",
       "      <td>0</td>\n",
       "      <td>6311409.28</td>\n",
       "      <td>6311409.28</td>\n",
       "      <td>0.0</td>\n",
       "      <td>0.00</td>\n",
       "      <td>0.00</td>\n",
       "      <td>1</td>\n",
       "    </tr>\n",
       "    <tr>\n",
       "      <th>2770406</th>\n",
       "      <td>1</td>\n",
       "      <td>6311409.28</td>\n",
       "      <td>6311409.28</td>\n",
       "      <td>0.0</td>\n",
       "      <td>68488.84</td>\n",
       "      <td>6379898.11</td>\n",
       "      <td>1</td>\n",
       "    </tr>\n",
       "    <tr>\n",
       "      <th>2770407</th>\n",
       "      <td>0</td>\n",
       "      <td>850002.52</td>\n",
       "      <td>850002.52</td>\n",
       "      <td>0.0</td>\n",
       "      <td>0.00</td>\n",
       "      <td>0.00</td>\n",
       "      <td>1</td>\n",
       "    </tr>\n",
       "    <tr>\n",
       "      <th>2770408</th>\n",
       "      <td>1</td>\n",
       "      <td>850002.52</td>\n",
       "      <td>850002.52</td>\n",
       "      <td>0.0</td>\n",
       "      <td>6510099.11</td>\n",
       "      <td>7360101.63</td>\n",
       "      <td>1</td>\n",
       "    </tr>\n",
       "  </tbody>\n",
       "</table>\n",
       "<p>2770409 rows × 7 columns</p>\n",
       "</div>"
      ],
      "text/plain": [
       "         type      amount  oldbalanceOrg  newbalanceOrig  oldbalanceDest  \\\n",
       "0           0      181.00         181.00             0.0            0.00   \n",
       "1           1      181.00         181.00             0.0        21182.00   \n",
       "2           1   229133.94       15325.00             0.0         5083.00   \n",
       "3           0   215310.30         705.00             0.0        22425.00   \n",
       "4           0   311685.89       10835.00             0.0         6267.00   \n",
       "...       ...         ...            ...             ...             ...   \n",
       "2770404     1   339682.13      339682.13             0.0            0.00   \n",
       "2770405     0  6311409.28     6311409.28             0.0            0.00   \n",
       "2770406     1  6311409.28     6311409.28             0.0        68488.84   \n",
       "2770407     0   850002.52      850002.52             0.0            0.00   \n",
       "2770408     1   850002.52      850002.52             0.0      6510099.11   \n",
       "\n",
       "         newbalanceDest  isFraud  \n",
       "0                  0.00        1  \n",
       "1                  0.00        1  \n",
       "2              51513.44        0  \n",
       "3                  0.00        0  \n",
       "4            2719172.89        0  \n",
       "...                 ...      ...  \n",
       "2770404       339682.13        1  \n",
       "2770405            0.00        1  \n",
       "2770406      6379898.11        1  \n",
       "2770407            0.00        1  \n",
       "2770408      7360101.63        1  \n",
       "\n",
       "[2770409 rows x 7 columns]"
      ]
     },
     "execution_count": 17,
     "metadata": {},
     "output_type": "execute_result"
    }
   ],
   "source": [
    "x"
   ]
  },
  {
   "cell_type": "markdown",
   "id": "ab4e9579",
   "metadata": {},
   "source": [
    "Creating 2 new features (columns) recording errors in the originating and destination accounts for each transaction."
   ]
  },
  {
   "cell_type": "code",
   "execution_count": 18,
   "id": "dedd1735",
   "metadata": {},
   "outputs": [],
   "source": [
    "x['errorbalanceOrg'] = x.newbalanceOrig + x.amount - x.oldbalanceOrg\n",
    "x['errorbalanceDest'] = x.oldbalanceDest + x.amount - x.newbalanceDest"
   ]
  },
  {
   "cell_type": "markdown",
   "id": "2d850462",
   "metadata": {},
   "source": [
    "## Plot correlation matrix to check multicolinearity between variables "
   ]
  },
  {
   "cell_type": "code",
   "execution_count": 19,
   "id": "970ad0c5",
   "metadata": {},
   "outputs": [
    {
     "data": {
      "text/plain": [
       "<AxesSubplot:>"
      ]
     },
     "execution_count": 19,
     "metadata": {},
     "output_type": "execute_result"
    },
    {
     "data": {
      "image/png": "[encoded data removed]",
      "text/plain": [
       "<Figure size 432x288 with 2 Axes>"
      ]
     },
     "metadata": {
      "needs_background": "light"
     },
     "output_type": "display_data"
    }
   ],
   "source": [
    "correlation=x.corr()\n",
    "sns.heatmap(correlation, vmax=1, square=True,cmap=\"YlGnBu\")"
   ]
  },
  {
   "cell_type": "code",
   "execution_count": 20,
   "id": "d722e3c8",
   "metadata": {},
   "outputs": [],
   "source": [
    "X=x.drop(['isFraud'],axis=1)\n",
    "Y=x['isFraud']"
   ]
  },
  {
   "cell_type": "markdown",
   "id": "a9a2b787",
   "metadata": {},
   "source": [
    "# Split data into training and test set"
   ]
  },
  {
   "cell_type": "code",
   "execution_count": 21,
   "id": "b67a2864",
   "metadata": {},
   "outputs": [],
   "source": [
    "X_train, X_test, y_train, y_test = train_test_split(X, Y, test_size = 0.3, random_state = 35)"
   ]
  },
  {
   "cell_type": "markdown",
   "id": "8afd7102",
   "metadata": {},
   "source": [
    "## Standard Scaling"
   ]
  },
  {
   "cell_type": "code",
   "execution_count": 22,
   "id": "7a925339",
   "metadata": {},
   "outputs": [],
   "source": [
    "scale=StandardScaler()\n",
    "scaledX_train= scale.fit_transform(X_train)\n",
    "scaledX_test=scale.transform(X_test)"
   ]
  },
  {
   "cell_type": "markdown",
   "id": "ea3b35da",
   "metadata": {},
   "source": [
    "# Model Training\n",
    "\n",
    "## Logistic Regression"
   ]
  },
  {
   "cell_type": "code",
   "execution_count": 23,
   "id": "ff553d31",
   "metadata": {},
   "outputs": [
    {
     "data": {
      "text/plain": [
       "LogisticRegression()"
      ]
     },
     "execution_count": 23,
     "metadata": {},
     "output_type": "execute_result"
    }
   ],
   "source": [
    "#creating object for Logistic regression\n",
    "logistic = LogisticRegression()\n",
    "#providing datas to train the machine\n",
    "logistic.fit(scaledX_train,y_train)"
   ]
  },
  {
   "cell_type": "code",
   "execution_count": 24,
   "id": "b9055987",
   "metadata": {},
   "outputs": [],
   "source": [
    "#storing the predicted values\n",
    "logistic_y_pred = logistic.predict(scaledX_test)"
   ]
  },
  {
   "cell_type": "code",
   "execution_count": 25,
   "id": "9407253b",
   "metadata": {},
   "outputs": [
    {
     "name": "stdout",
     "output_type": "stream",
     "text": [
      "[[828471    182]\n",
      " [  1323   1147]]\n"
     ]
    },
    {
     "data": {
      "text/plain": [
       "0.9981891970261922"
      ]
     },
     "execution_count": 25,
     "metadata": {},
     "output_type": "execute_result"
    }
   ],
   "source": [
    "#displaying the confusion matrix and accuracy\n",
    "\n",
    "print(confusion_matrix(y_test, logistic_y_pred))\n",
    "accuracy_score(y_test, logistic_y_pred)"
   ]
  },
  {
   "cell_type": "code",
   "execution_count": 26,
   "id": "0c03b22a",
   "metadata": {},
   "outputs": [
    {
     "name": "stdout",
     "output_type": "stream",
     "text": [
      "              precision    recall  f1-score   support\n",
      "\n",
      "           0       1.00      1.00      1.00    828653\n",
      "           1       0.86      0.46      0.60      2470\n",
      "\n",
      "    accuracy                           1.00    831123\n",
      "   macro avg       0.93      0.73      0.80    831123\n",
      "weighted avg       1.00      1.00      1.00    831123\n",
      "\n"
     ]
    }
   ],
   "source": [
    "#printing the classification report\n",
    "print(classification_report(y_test,logistic_y_pred))"
   ]
  },
  {
   "cell_type": "markdown",
   "id": "246576f7",
   "metadata": {},
   "source": [
    "## Random Forest Classifier"
   ]
  },
  {
   "cell_type": "code",
   "execution_count": 27,
   "id": "42cb8354",
   "metadata": {},
   "outputs": [],
   "source": [
    "#creating an object for random forest having 1000 as parameter for n_estimators \n",
    "rfc=RandomForestClassifier()\n",
    "rfc.fit(X_train,y_train)\n",
    "rfc_y_pred=rfc.predict(X_test)"
   ]
  },
  {
   "cell_type": "code",
   "execution_count": 28,
   "id": "6c9086a9",
   "metadata": {},
   "outputs": [
    {
     "name": "stdout",
     "output_type": "stream",
     "text": [
      "[[828650      3]\n",
      " [     9   2461]]\n"
     ]
    },
    {
     "data": {
      "text/plain": [
       "0.9999855617038633"
      ]
     },
     "execution_count": 28,
     "metadata": {},
     "output_type": "execute_result"
    }
   ],
   "source": [
    "#displaying the confusion matrix and accuracy\n",
    "print(confusion_matrix(y_test,rfc_y_pred)) \n",
    "accuracy_score(y_test, rfc_y_pred)"
   ]
  },
  {
   "cell_type": "code",
   "execution_count": 29,
   "id": "dd6e3108",
   "metadata": {},
   "outputs": [
    {
     "name": "stdout",
     "output_type": "stream",
     "text": [
      "              precision    recall  f1-score   support\n",
      "\n",
      "           0       1.00      1.00      1.00    828653\n",
      "           1       1.00      1.00      1.00      2470\n",
      "\n",
      "    accuracy                           1.00    831123\n",
      "   macro avg       1.00      1.00      1.00    831123\n",
      "weighted avg       1.00      1.00      1.00    831123\n",
      "\n"
     ]
    }
   ],
   "source": [
    "#printing the classification report \n",
    "print(classification_report(y_test,rfc_y_pred))"
   ]
  },
  {
   "cell_type": "markdown",
   "id": "bed0e699",
   "metadata": {},
   "source": [
    "## Support Vector Machine"
   ]
  },
  {
   "cell_type": "code",
   "execution_count": 30,
   "id": "1ecf094d",
   "metadata": {},
   "outputs": [],
   "source": [
    "#Creating SVM object\n",
    "model = SVC()\n",
    "#Training of model \n",
    "model.fit(scaledX_train,y_train)\n",
    "#Prediction using SVM\n",
    "svc_y_pred = model.predict(scaledX_test)"
   ]
  },
  {
   "cell_type": "code",
   "execution_count": 31,
   "id": "a9190afb",
   "metadata": {},
   "outputs": [
    {
     "name": "stdout",
     "output_type": "stream",
     "text": [
      "[[828622     31]\n",
      " [   977   1493]]\n"
     ]
    },
    {
     "data": {
      "text/plain": [
       "0.9987871831245195"
      ]
     },
     "execution_count": 31,
     "metadata": {},
     "output_type": "execute_result"
    }
   ],
   "source": [
    "#displaying the confusion matrix and accuracy \n",
    "print(confusion_matrix(y_test,svc_y_pred)) \n",
    "accuracy_score(y_test, svc_y_pred)"
   ]
  },
  {
   "cell_type": "code",
   "execution_count": 32,
   "id": "4844f54d",
   "metadata": {},
   "outputs": [
    {
     "name": "stdout",
     "output_type": "stream",
     "text": [
      "              precision    recall  f1-score   support\n",
      "\n",
      "           0       1.00      1.00      1.00    828653\n",
      "           1       0.98      0.60      0.75      2470\n",
      "\n",
      "    accuracy                           1.00    831123\n",
      "   macro avg       0.99      0.80      0.87    831123\n",
      "weighted avg       1.00      1.00      1.00    831123\n",
      "\n"
     ]
    }
   ],
   "source": [
    "#printing the classification report \n",
    "print(classification_report(y_test,svc_y_pred))"
   ]
  },
  {
   "cell_type": "markdown",
   "id": "3f4ddafe",
   "metadata": {},
   "source": [
    "## Decision Tree"
   ]
  },
  {
   "cell_type": "code",
   "execution_count": 33,
   "id": "d8d5277d",
   "metadata": {},
   "outputs": [],
   "source": [
    "#creating object and providing training data \n",
    "dtree=DecisionTreeClassifier() \n",
    "dtree.fit(X_train,y_train)\n",
    "#Predicting frim our model \n",
    "dtree_y_predict = dtree.predict(X_test)"
   ]
  },
  {
   "cell_type": "code",
   "execution_count": 34,
   "id": "f148aac5",
   "metadata": {},
   "outputs": [
    {
     "name": "stdout",
     "output_type": "stream",
     "text": [
      "[[828640     13]\n",
      " [    11   2459]]\n"
     ]
    },
    {
     "data": {
      "text/plain": [
       "0.9999711234077266"
      ]
     },
     "execution_count": 34,
     "metadata": {},
     "output_type": "execute_result"
    }
   ],
   "source": [
    "#displaying the confusion matrix and accuracy\n",
    "print(confusion_matrix(y_test,dtree_y_predict)) \n",
    "accuracy_score(y_test, dtree_y_predict)"
   ]
  },
  {
   "cell_type": "code",
   "execution_count": 35,
   "id": "0c78a624",
   "metadata": {},
   "outputs": [
    {
     "name": "stdout",
     "output_type": "stream",
     "text": [
      "              precision    recall  f1-score   support\n",
      "\n",
      "           0       1.00      1.00      1.00    828653\n",
      "           1       0.99      1.00      1.00      2470\n",
      "\n",
      "    accuracy                           1.00    831123\n",
      "   macro avg       1.00      1.00      1.00    831123\n",
      "weighted avg       1.00      1.00      1.00    831123\n",
      "\n"
     ]
    }
   ],
   "source": [
    "#printing the classification report \n",
    "print(classification_report(y_test,dtree_y_predict))"
   ]
  },
  {
   "cell_type": "markdown",
   "id": "ee6ccedb",
   "metadata": {},
   "source": [
    "## GAUSSIAN NAIVE CLASSIFIER"
   ]
  },
  {
   "cell_type": "code",
   "execution_count": 36,
   "id": "26597b04",
   "metadata": {},
   "outputs": [],
   "source": [
    "#creating an object\n",
    "gnb=GaussianNB()\n",
    "#providing data to train the machine\n",
    "gnb.fit(scaledX_train,y_train) \n",
    "gnb_y_predict = gnb.predict(scaledX_test)"
   ]
  },
  {
   "cell_type": "code",
   "execution_count": 37,
   "id": "44e748cb",
   "metadata": {},
   "outputs": [
    {
     "name": "stdout",
     "output_type": "stream",
     "text": [
      "[[820377   8276]\n",
      " [  1483    987]]\n"
     ]
    },
    {
     "data": {
      "text/plain": [
       "0.9882580556668508"
      ]
     },
     "execution_count": 37,
     "metadata": {},
     "output_type": "execute_result"
    }
   ],
   "source": [
    "#displaying the confusion matrix and accuracy\n",
    "print(confusion_matrix(y_test,gnb_y_predict)) \n",
    "accuracy_score(y_test, gnb_y_predict)"
   ]
  },
  {
   "cell_type": "code",
   "execution_count": 38,
   "id": "76fe8a4e",
   "metadata": {},
   "outputs": [
    {
     "name": "stdout",
     "output_type": "stream",
     "text": [
      "              precision    recall  f1-score   support\n",
      "\n",
      "           0       1.00      0.99      0.99    828653\n",
      "           1       0.11      0.40      0.17      2470\n",
      "\n",
      "    accuracy                           0.99    831123\n",
      "   macro avg       0.55      0.69      0.58    831123\n",
      "weighted avg       1.00      0.99      0.99    831123\n",
      "\n"
     ]
    }
   ],
   "source": [
    "#printing the classification report \n",
    "print(classification_report(y_test,gnb_y_predict))"
   ]
  },
  {
   "cell_type": "markdown",
   "id": "063bbf4b",
   "metadata": {},
   "source": [
    "### XGBoost Classifier"
   ]
  },
  {
   "cell_type": "code",
   "execution_count": null,
   "id": "079327c8",
   "metadata": {},
   "outputs": [
    {
     "name": "stdout",
     "output_type": "stream",
     "text": [
      "Fitting 5 folds for each of 5 candidates, totalling 25 fits\n",
      "[18:47:12] WARNING: C:/Users/Administrator/workspace/xgboost-win64_release_1.5.1/src/learner.cc:1115: Starting in XGBoost 1.3.0, the default evaluation metric used with the objective 'binary:logistic' was changed from 'error' to 'logloss'. Explicitly set eval_metric if you'd like to restore the old behavior.\n",
      "[CV 1/5] END colsample_bytree=0.4, gamma=0.1, learning_rate=0.7, max_depth=12, n_estimators=120, subsample=0.5;, score=0.998 total time= 2.3min\n",
      "[18:49:31] WARNING: C:/Users/Administrator/workspace/xgboost-win64_release_1.5.1/src/learner.cc:1115: Starting in XGBoost 1.3.0, the default evaluation metric used with the objective 'binary:logistic' was changed from 'error' to 'logloss'. Explicitly set eval_metric if you'd like to restore the old behavior.\n",
      "[CV 2/5] END colsample_bytree=0.4, gamma=0.1, learning_rate=0.7, max_depth=12, n_estimators=120, subsample=0.5;, score=1.000 total time= 2.4min\n",
      "[18:51:53] WARNING: C:/Users/Administrator/workspace/xgboost-win64_release_1.5.1/src/learner.cc:1115: Starting in XGBoost 1.3.0, the default evaluation metric used with the objective 'binary:logistic' was changed from 'error' to 'logloss'. Explicitly set eval_metric if you'd like to restore the old behavior.\n",
      "[CV 3/5] END colsample_bytree=0.4, gamma=0.1, learning_rate=0.7, max_depth=12, n_estimators=120, subsample=0.5;, score=0.998 total time= 2.4min\n",
      "[18:54:19] WARNING: C:/Users/Administrator/workspace/xgboost-win64_release_1.5.1/src/learner.cc:1115: Starting in XGBoost 1.3.0, the default evaluation metric used with the objective 'binary:logistic' was changed from 'error' to 'logloss'. Explicitly set eval_metric if you'd like to restore the old behavior.\n"
     ]
    }
   ],
   "source": [
    "xgb_model = xgb.XGBClassifier(use_label_encoder=False)\n",
    "params = {\n",
    "    \"colsample_bytree\":[0.3,0.4,0.5,0.7],\n",
    "    \"gamma\":[0.0,0.1,0.2,0.3,0.4,0.5],\n",
    "    \"learning_rate\": [0.001,0.01,0.1,0.3,0.5,0.7,1], # default 0.1 \n",
    "    \"max_depth\":[3,4,5,6,8,10,12,15], # default 3\n",
    "    \"n_estimators\":[10,50,75,100,120,150], # default 100\n",
    "    \"subsample\":[0.1,0.2,0.4,0.5,0.6,0.7]\n",
    "}\n",
    "\n",
    "search = RandomizedSearchCV(xgb_model, param_distributions=params, random_state=42, n_iter=5, cv=5, verbose=3, n_jobs=1,scoring='roc_auc')\n",
    "\n",
    "search.fit(scaledX_train, y_train)\n"
   ]
  },
  {
   "cell_type": "code",
   "execution_count": null,
   "id": "833e736c",
   "metadata": {},
   "outputs": [],
   "source": [
    "search.best_estimator_"
   ]
  },
  {
   "cell_type": "code",
   "execution_count": null,
   "id": "847dfe91",
   "metadata": {},
   "outputs": [],
   "source": [
    "search.best_params_"
   ]
  },
  {
   "cell_type": "code",
   "execution_count": null,
   "id": "e764088f",
   "metadata": {},
   "outputs": [],
   "source": [
    "classifier=xgb.XGBClassifier(base_score=0.5, booster='gbtree', colsample_bylevel=1,\n",
    "              colsample_bynode=1, colsample_bytree=0.3,\n",
    "              enable_categorical=False, gamma=0.5, gpu_id=-1,\n",
    "              importance_type=None, interaction_constraints='',\n",
    "              learning_rate=0.5, max_delta_step=0, max_depth=4,\n",
    "              min_child_weight=1, monotone_constraints='()',\n",
    "              n_estimators=75, n_jobs=4, num_parallel_tree=1, predictor='auto',\n",
    "              random_state=0, reg_alpha=0, reg_lambda=1, scale_pos_weight=1,\n",
    "              subsample=0.6, tree_method='exact', validate_parameters=1,\n",
    "              verbosity=None, use_label_encoder=False)"
   ]
  },
  {
   "cell_type": "code",
   "execution_count": null,
   "id": "252a2a81",
   "metadata": {},
   "outputs": [],
   "source": [
    "classifier.fit(scaledX_train,y_train) "
   ]
  },
  {
   "cell_type": "markdown",
   "id": "8e4ce14d",
   "metadata": {},
   "source": [
    "### Predict unseen data i.e. test data using the trained model"
   ]
  },
  {
   "cell_type": "code",
   "execution_count": null,
   "id": "ab6d4afd",
   "metadata": {},
   "outputs": [],
   "source": [
    "y_predict = classifier.predict(scaledX_test)"
   ]
  },
  {
   "cell_type": "code",
   "execution_count": null,
   "id": "21d559a6",
   "metadata": {},
   "outputs": [],
   "source": [
    "#displaying the confusion matrix and accuracy\n",
    "print(confusion_matrix(y_test,y_predict)) \n",
    "accuracy_score(y_test, y_predict)"
   ]
  },
  {
   "cell_type": "code",
   "execution_count": null,
   "id": "0dfefc1d",
   "metadata": {},
   "outputs": [],
   "source": [
    "#printing the classification report\n",
    "print(classification_report(y_test, y_pred))"
   ]
  },
  {
   "cell_type": "markdown",
   "id": "5f6bb67c",
   "metadata": {},
   "source": [
    "# Saving the model"
   ]
  },
  {
   "cell_type": "code",
   "execution_count": 35,
   "id": "207fdaf5",
   "metadata": {},
   "outputs": [],
   "source": [
    "filename='PredictModel.pickle'\n",
    "pickle.dump(classifier,open(filename,'wb'))"
   ]
  },
  {
   "cell_type": "code",
   "execution_count": 36,
   "id": "52319f44",
   "metadata": {},
   "outputs": [],
   "source": [
    "with open('PredictModel.pickle','rb') as f:\n",
    "    mp= pickle.load(f)"
   ]
  },
  {
   "cell_type": "markdown",
   "id": "ed42fae4",
   "metadata": {},
   "source": [
    "# Observation\n",
    "\n",
    "\n",
    "### As you can see, using simple XGBoost Algorithm , we were able to classify with very high accuracy (99.9%) whether the transaction is fraudulent or non-fraudulent."
   ]
  }
 ],
 "metadata": {
  "kernelspec": {
   "display_name": "Python 3 (ipykernel)",
   "language": "python",
   "name": "python3"
  },
  "language_info": {
   "codemirror_mode": {
    "name": "ipython",
    "version": 3
   },
   "file_extension": ".py",
   "mimetype": "text/x-python",
   "name": "python",
   "nbconvert_exporter": "python",
   "pygments_lexer": "ipython3",
   "version": "3.9.7"
  }
 },
 "nbformat": 4,
 "nbformat_minor": 5
}
